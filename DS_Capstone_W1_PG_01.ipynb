{
  "nbformat": 4,
  "nbformat_minor": 0,
  "metadata": {
    "kernelspec": {
      "name": "python3",
      "display_name": "Python 3.7",
      "language": "python"
    },
    "language_info": {
      "name": "python",
      "version": "3.7.9",
      "mimetype": "text/x-python",
      "codemirror_mode": {
        "name": "ipython",
        "version": 3
      },
      "pygments_lexer": "ipython3",
      "nbconvert_exporter": "python",
      "file_extension": ".py"
    },
    "colab": {
      "name": "09.04 - DS.Capstone.W1.PG.01.ipynb",
      "provenance": [],
      "include_colab_link": true
    }
  },
  "cells": [
    {
      "cell_type": "markdown",
      "metadata": {
        "id": "view-in-github",
        "colab_type": "text"
      },
      "source": [
        "<a href=\"https://colab.research.google.com/github/juanimoralesv/Coursera_Capstone/blob/main/DS_Capstone_W1_PG_01.ipynb\" target=\"_parent\"><img src=\"https://colab.research.google.com/assets/colab-badge.svg\" alt=\"Open In Colab\"/></a>"
      ]
    },
    {
      "cell_type": "markdown",
      "metadata": {
        "collapsed": true,
        "id": "YlkWZoXziPOI"
      },
      "source": [
        "# Applied Data Science Capstone\n",
        "## IBM Data Science certification\n",
        "### Coursera"
      ]
    },
    {
      "cell_type": "markdown",
      "metadata": {
        "id": "EN4tAX7wiPON"
      },
      "source": [
        "In this notebook I will develop the projects required in this course."
      ]
    },
    {
      "cell_type": "code",
      "metadata": {
        "id": "L96b2AQViPOP"
      },
      "source": [
        "# Importing relevant libraries\n",
        "import pandas as pd\n",
        "import numpy as np"
      ],
      "execution_count": null,
      "outputs": []
    },
    {
      "cell_type": "code",
      "metadata": {
        "id": "PAenjZ5hiPOc",
        "outputId": "01e2d674-a527-4f1c-b595-bbe927ee5bad"
      },
      "source": [
        "print('Hello Capstone Project Course!')"
      ],
      "execution_count": null,
      "outputs": [
        {
          "output_type": "stream",
          "text": [
            "Hello Capstone Project Course!\n"
          ],
          "name": "stdout"
        }
      ]
    },
    {
      "cell_type": "code",
      "metadata": {
        "id": "nkJI0gtPiPOy"
      },
      "source": [
        ""
      ],
      "execution_count": null,
      "outputs": []
    }
  ]
}